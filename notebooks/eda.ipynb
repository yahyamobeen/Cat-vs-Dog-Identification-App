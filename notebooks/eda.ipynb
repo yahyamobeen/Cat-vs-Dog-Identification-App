{
 "cells": [
  {
   "cell_type": "code",
   "execution_count": null,
   "id": "image-count",
   "metadata": {},
   "outputs": [],
   "source": [
    "import os\n",
    "import matplotlib.pyplot as plt\n",
    "import seaborn as sns\n",
    "from PIL import Image\n",
    "import numpy as np\n",
    "\n",
    "base_dir = "../data/train"\n",
    "\n",
    "classes = ['cat', 'dog']\n",
    "class_counts = {cls: len(os.listdir(os.path.join(base_dir, cls))) for cls in classes}\n",
    "\n",
    "sns.barplot(x=list(class_counts.keys()), y=list(class_counts.values()))\n",
    "plt.title("Number of Images per Class")\n",
    "plt.show()"
   ]
  }
 ],
 "metadata": {},
 "nbformat": 4,
 "nbformat_minor": 5
}